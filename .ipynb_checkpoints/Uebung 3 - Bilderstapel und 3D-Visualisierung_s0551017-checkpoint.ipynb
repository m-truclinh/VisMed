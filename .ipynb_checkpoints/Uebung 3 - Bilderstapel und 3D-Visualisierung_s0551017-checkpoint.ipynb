{
 "cells": [
  {
   "cell_type": "markdown",
   "metadata": {},
   "source": [
    "# Übung 3 - Bilderstapel und  3D-Visualisierung\n",
    "***"
   ]
  },
  {
   "cell_type": "markdown",
   "metadata": {},
   "source": []
  },
  {
   "cell_type": "markdown",
   "metadata": {},
   "source": [
    "## Bearbeitungszeitraum\n",
    "\n",
    "**Bearbeitungsbegin:** Mo, 03.06.2019\n",
    "<br>\n",
    "**Abgabe:** So, 23.06.2019, 23:55 Uhr\n",
    "\n",
    "---"
   ]
  },
  {
   "cell_type": "markdown",
   "metadata": {},
   "source": [
    "## Aufgabenbeschreibung"
   ]
  },
  {
   "cell_type": "markdown",
   "metadata": {},
   "source": [
    "Die Ergebnisse von tomographischen Bildgebungsverfahren (z.B. Computertomographie, Magnetresonanztomographie oder Positronen-Emissionstomographie) sind Stapel von z.T. mehreren hundert Schnitt-/Schichtbildern primär in der Transversalebene.\n",
    "Aus diesen *Originalbildern* können weitere Ebenen für eine Visualisierung berechnet werden. Der Bildstapel einer Ebene kann jedoch auch Basis einer 3D-Visualisierung sein.\n",
    "\n",
    "Innerhalb dieser Übung sollen zwei Ziele erreicht werden:\n",
    "1. Umgang mit Bilderstapeln und deren Visualisierung sowie die Verarbeitung der einzelnen Schichtbilder als Vorbereitung einer 3D-Rekonstruktion\n",
    "2. Rekonstruktion und Visualisierung eines 3D-Modells auf Basis eines (vorverarbeiteten) Bildstapels \n",
    "\n",
    "Den in dieser Übung zu verwendenden Bildstapel laden Sie bitte unter folgendem Link herunter: <https://mri.radiology.uiowa.edu/VHDicom/VHFCT1mm/VHF-Head.tar.gz>\n",
    "\n",
    "Der Datensatz ist den *CT Datasets (Visible Female CT Datasets)* des *Visible Human Project* (<https://www.nlm.nih.gov/research/visible/visible_human.html>) entnommen."
   ]
  },
  {
   "cell_type": "markdown",
   "metadata": {},
   "source": [
    "### Wichtige Hinweise zur Übung\n",
    "\n",
    "- Für die Realisierung von **Aufgabe 4** und des **Bonusteils** sind externe Bibliotheken ausdrücklich zugelassen.\n",
    "- Sollten Sie Bibliotheken verwenden, die sich nicht mittels `pip` oder `conda` installieren lassen bzw. externe Abhängigkeiten haben (z.B. OpenCV, VTK), müssen Sie Ihre Lösung innerhalb der Übung an Ihrem Arbeitsplatz vorstellen.\n",
    "- Die Vorstellung muss bis spätestens **20.06.2019** erfolgen.\n",
    "- Das Notebook wird parallel wie gewohnt über Moodle abgegeben.\n",
    "- Listen Sie vor jeder Aufgabe die von Ihnen ggf. verwendeten externen Bibliotheken auf.\n",
    "- Sollte keine Vorstellung erfolgen, werden nur die über Moodle abgegebenen und mit den *Standard-Paketen* (siehe Foliensatz **Organisatorisches**) bzw. nachinstallierbaren Paketen (mittels `pip` oder `conda`) ausführbaren Teile Ihrer Lösung bewertet.\n",
    "\n",
    "\n",
    "**Generelle Hinweise zur Bearbeitung:** \n",
    "\n",
    "Für die Visualisierung soll das `matplotlib`-Paket verwendet werden. Alle Bilder sollen *inline* in diesem Notebook ausgegeben werden. Ausnahmen sind bei den jeweiligen Aufgaben genannt.\n",
    "\n",
    "\n",
    "**Weitere Hinweise zur Abgabe**\n",
    "\n",
    "- Füllen Sie unbedingt die erste Zelle unterhalb der Überschrift mit Name und Matr.-Nr. aus!\n",
    "- Ergänzen Sie den Dateinamen des Notebooks vor der Abgabe um `_` und Ihre Matr.-Nr. (`Uebung 3 - Bilderstapel und 3D-Visualisierung_s0500000.ipynb`)\n",
    "- Entfernen Sie vor dem Upload alle Ausgaben aus dem Notebook!\n",
    "- Der verwendete Bildstapel muss nicht abgegeben werden.\n",
    "\n",
    "**Hinweise zur Benotung**\n",
    "\n",
    "- Die Aufgabe wird nach dem üblichen Notenschema von 1,0 bis 5,0 bewertet.\n",
    "- Diese Aufgabe wird mit 40% in der Gesamtnote der Übung gewichtet.\n",
    "\n",
    "### Viel Erfolg!"
   ]
  },
  {
   "cell_type": "markdown",
   "metadata": {},
   "source": [
    "---\n",
    "---"
   ]
  },
  {
   "cell_type": "markdown",
   "metadata": {},
   "source": [
    "### Aufgaben:\n",
    "\n",
    "**1. Einlesen und Visualisieren des DICOM-Bildstapels**\n",
    "\n",
    "Lesen Sie alle DICOM-Bilder des Verzeichnisses ein.\n",
    "Visualisieren Sie den Bildstapel mit Hilfe eines interaktiven **Sliders** über den durch den Bildstapel navigiert werden kann. \n",
    "\n",
    "**Hinweise:**\n",
    "- Verwenden Sie die Ihnen bekannte Bibliothek `pydicom` zum Einlesen der DICOM-Dateien.\n",
    "- Nutzen sie das Paket `ipywidgets` zur Realisierung der interaktiven Elemente.\n",
    "- Achten Sie beim Umgang mit Dateien und Verzeichnissen darauf, dass nicht immer nach Dateinamen sortierte Listen zurückgegeben werden."
   ]
  },
  {
   "cell_type": "code",
   "execution_count": 1,
   "metadata": {},
   "outputs": [],
   "source": [
    "import pydicom\n",
    "import pylab\n",
    "import matplotlib.pyplot as plt\n",
    "import numpy as np\n",
    "import os\n",
    "import ipywidgets as widgets\n",
    "from ipywidgets import interact, fixed"
   ]
  },
  {
   "cell_type": "code",
   "execution_count": 2,
   "metadata": {},
   "outputs": [
    {
     "data": {
      "application/vnd.jupyter.widget-view+json": {
       "model_id": "cb3451d5a5b14279a994b234e9f5e581",
       "version_major": 2,
       "version_minor": 0
      },
      "text/plain": [
       "interactive(children=(IntSlider(value=233, continuous_update=False, description='Slice', max=233), Output()), …"
      ]
     },
     "metadata": {},
     "output_type": "display_data"
    },
    {
     "data": {
      "text/plain": [
       "<function __main__.show_slice(slice_index)>"
      ]
     },
     "execution_count": 2,
     "metadata": {},
     "output_type": "execute_result"
    }
   ],
   "source": [
    "%matplotlib inline\n",
    "\n",
    "data_path='./Head'\n",
    "output_path=working_path=os.getcwd()\n",
    "\n",
    "def load_slice(path):\n",
    "    slices=[pydicom.read_file(path+'/'+s) for s in os.listdir(path)]\n",
    "    slices.sort(key=lambda x: int(x.InstanceNumber))\n",
    "    \n",
    "    try:\n",
    "        slice_thickness = np.abs(slices[0].ImagePositionPatient[2] - slices[1].ImagePositionPatient[2])\n",
    "    except:\n",
    "        slice_thickness = np.abs(slices[0].SliceLocation - slices[1].SliceLocation)\n",
    "        \n",
    "    for s in slices:\n",
    "        s.SliceThickness = slice_thickness\n",
    "        \n",
    "    return slices\n",
    "\n",
    "def get_pixels(scans):\n",
    "    image = np.stack([s.pixel_array for s in scans])\n",
    "    # convert to int16 (from sometimes int16), \n",
    "#     # should be possible as values should always be low enough (<32k)\n",
    "#     image = image.astype(np.int16)\n",
    "\n",
    "#     # set outside-of-scan pixels to 1\n",
    "#     # the intercept is usually -1024, so air is approximately 0\n",
    "#     image[image == -2000] = 0\n",
    "    \n",
    "#     # convert to hounsfield units (HU)\n",
    "#     intercept = scans[0].RescaleIntercept\n",
    "#     slope = scans[0].RescaleSlope\n",
    "    \n",
    "#     if slope != 1:\n",
    "#         image = slope * image.astype(np.float64)\n",
    "#         image = image.astype(np.int16)\n",
    "        \n",
    "#     image += np.int16(intercept)\n",
    "    \n",
    "    return np.array(image, dtype=np.int16)\n",
    "\n",
    "id=0\n",
    "patient = load_slice(data_path)\n",
    "imgs = get_pixels(patient)\n",
    "\n",
    "def show_slice(slice_index):\n",
    "    plt.figure(figsize=(8,8))\n",
    "    plt.axis('off')\n",
    "    plt.imshow(imgs[slice_index], cmap=plt.cm.gray)\n",
    "    return \n",
    "\n",
    "interact(show_slice,\n",
    "         slice_index=widgets.IntSlider(min=0, max=len(imgs)-1,step=1, value=233, description='Slice', continuous_update=False))"
   ]
  },
  {
   "cell_type": "markdown",
   "metadata": {},
   "source": [
    "**2. Konvertierung des DICOM-Bildstapels in Binärbilder**\n",
    "\n",
    "Implementieren sie eine Funktion zur Konvertierung eines Bildes in das Binärformat anhand eines gegebenen Schwellenwertes.\n",
    "\n",
    "In CT-DICOM-Bildern zeichnen sich die Bereiche des Untersuchungsobjektes über vergleichsweise hohe Signalwerte aus. Im Gegensatz dazu ist der Hintergrund durch niedrige Signalwerte gekennzeichnet. Mit Hilfe der binären Konvertierung kann das Objekt vom Hintergrund getrennt werden.\n",
    "\n",
    "Ihre Funktion soll die Pixel des Bildes anhand eines Vergleichs mit einem gegebenen Schwellenwert (Funktionsparameter) dem Hintergrund bzw. dem Objekt zuordnen:\n",
    "- Pixelwert < Schwellenwert: Pixel ist Hintergrundpixel\n",
    "- Pixelwert >= Schwellenwert: Pixel ist Objektpixel\n",
    "\n",
    "Wenden Sie Ihre Funktion auf alle Bilder des Stapels an. Wählen Sie hierzu einen Schwellenwert von **250**.\n",
    "\n",
    "Visualisieren Sie den konvertierten Bilderstapel analog zu **1.** (der Hintergrund soll in schwarz, das Objekt in weiß dargestellt werden)."
   ]
  },
  {
   "cell_type": "code",
   "execution_count": 3,
   "metadata": {},
   "outputs": [
    {
     "data": {
      "application/vnd.jupyter.widget-view+json": {
       "model_id": "d5755f28073a4fc8ab4f0ab1a54fe0a3",
       "version_major": 2,
       "version_minor": 0
      },
      "text/plain": [
       "interactive(children=(IntSlider(value=0, continuous_update=False, description='Slice', max=233), Output()), _d…"
      ]
     },
     "metadata": {},
     "output_type": "display_data"
    },
    {
     "data": {
      "text/plain": [
       "<function __main__.show_slice(slice_index)>"
      ]
     },
     "execution_count": 3,
     "metadata": {},
     "output_type": "execute_result"
    }
   ],
   "source": [
    "%matplotlib inline\n",
    "\n",
    "ds_copy=np.copy(imgs)\n",
    "\n",
    "def binary_pic(pixel,thres=250):\n",
    "#     pixel=np.where(pixel<thres, 0.0, 1.0)  \n",
    "#     return pixel\n",
    "    return(pixel>thres)*255\n",
    "\n",
    "for idx, img in enumerate(ds_copy):\n",
    "    ds_copy[idx]=binary_pic(img,250)\n",
    "\n",
    "def show_slice(slice_index):\n",
    "    plt.figure(figsize=(8,8))\n",
    "    plt.axis('off')\n",
    "    plt.imshow(ds_copy[slice_index], cmap=plt.cm.gray)\n",
    "    return\n",
    "\n",
    "interact(show_slice,\n",
    "         slice_index=widgets.IntSlider(min=0, max=len(imgs)-1,step=1, value=0, description='Slice', continuous_update=False))"
   ]
  },
  {
   "cell_type": "markdown",
   "metadata": {},
   "source": [
    "**3. Optimieren der Binärbilder**\n",
    "\n",
    "Anhand der Visualisierung in **2.** ist zu erkennen, dass die Bilder z.T. kleine Artefakte im Hintergrund bzw. *Löcher* innerhalb des Objektes aufweisen. Der Objektrand ist teilweise sehr *ausgefranst*. Auf einigen Bildern sind Bereiche des Untersuchungstisches im Bild vorhanden.\n",
    "\n",
    "Versuchen Sie diese *ungünstigen* Eigenschaften der Bilder auszugleichen.\n",
    "\n",
    "1. Morphologische Operationen (Erosion, Dilatation, Öffnung, Schließung) zur Glättung der Objektränder, Schließung kleinerer Löcher im Objekt oder Entfernung kleinerer Artefakte\n",
    "    - Achten Sie auf die Reihenfolge der Operationen und deren Kombinationsmöglichkeiten\n",
    "2. Definieren eines **globalen** Objektbereichs über ein Rechteck. Alle Pixel außerhalb dieses Objektbereiches sind automatisch Hintergrund. Wenden Sie den von Ihnen definierten Objektbereich auf alle Bilder des Stapels an.\n",
    "    - Achten Sie bei der Festlegung des Objektbereichs darauf, dass keine Teile der korrekten Objekte versehentlich entfernt werden.\n",
    "\n",
    "**Weitere Optimierungen werden als Bonus gewertet.**\n",
    "\n",
    "Visualisieren Sie den optimierten Binärbildstapel analog zu **1.**\n",
    "\n",
    "**Hinweis:**\n",
    "- Die morphologische Operationen sind in den zugelassenen *Standard-Paketen* enthalten und dürfen verwendet werden."
   ]
  },
  {
   "cell_type": "code",
   "execution_count": 4,
   "metadata": {},
   "outputs": [
    {
     "data": {
      "application/vnd.jupyter.widget-view+json": {
       "model_id": "1f55772d0a4e49ee87069f08765f6f9d",
       "version_major": 2,
       "version_minor": 0
      },
      "text/plain": [
       "interactive(children=(IntSlider(value=233, continuous_update=False, description='Slice', max=233), Output()), …"
      ]
     },
     "metadata": {},
     "output_type": "display_data"
    },
    {
     "data": {
      "text/plain": [
       "<function __main__.morph_op(slice_index)>"
      ]
     },
     "execution_count": 4,
     "metadata": {},
     "output_type": "execute_result"
    }
   ],
   "source": [
    "%matplotlib inline\n",
    "\n",
    "import cv2\n",
    "\n",
    "ds_copy_2=np.copy(ds_copy)\n",
    "# print(ds_copy_2)\n",
    "kernel = np.ones((5,5),np.uint8) # standart version\n",
    "\n",
    "for idx,img in enumerate(ds_copy_2):\n",
    "    \n",
    "    ds_copy_2[idx]=cv2.morphologyEx(img, cv2.MORPH_OPEN, kernel)\n",
    "    ds_copy_2[idx]=cv2.morphologyEx(img, cv2.MORPH_CLOSE, kernel)\n",
    "    \n",
    "#     ds_copy_2[idx]=cv2.findContours(img, cv2.RETR_EXTERNAL, cv2.CHAIN_APPROX_SIMPLE)\n",
    "    \n",
    "#     ds_copy_2[x,y,w,h]=cv2.boudingRect(img)\n",
    "    \n",
    "#     roi=ds_copy_2[y:y+h,x:x+w]\n",
    "    \n",
    "#     cv2.imshow(roi)\n",
    "    \n",
    "#     cv2.rectangle(img, (x,y), (x+w,y+h), (0,255,0),1)\n",
    "    \n",
    "def morph_op(slice_index):\n",
    "    plt.figure(figsize=(8,8))\n",
    "    plt.axis('off')\n",
    "    plt.imshow(ds_copy_2[slice_index], cmap=plt.cm.gray)\n",
    "    return\n",
    "\n",
    "interact(morph_op,\n",
    "         slice_index=widgets.IntSlider(min=0, max=len(imgs)-1,step=1, value=233, description='Slice', continuous_update=False))"
   ]
  },
  {
   "cell_type": "markdown",
   "metadata": {},
   "source": [
    "**4. 3D-Rekonstruktion**\n",
    "\n",
    "Basierend auf den Binärbildern aus **3.** sollen Sie ein 3D-Modell des Datensatzes rekonstruieren.\n",
    "\n",
    "Grundsätzlich stehen für eine Rekonstruktion verschiedene Ansätze zur Auswahl, u.a.:\n",
    "- Detektion der Außenkonturen der Objekte und anschließende Triangulation der Oberfläche (Bildung von Dreiecken).\n",
    "- Anwendung des Marching-Cubes-Algorithmus\n",
    "- Konstruktion eines Volumenmodells aus den Objektvoxeln der gestapelten Schichten. \n",
    "\n",
    "Der Ansatz sowie die verwendeten Bibliotheken, den/die Sie verfolgen/verwenden wollen, bleibt Ihnen überlassen. \n",
    "\n",
    "**Wichtig:**\n",
    "- Erläutern Sie vor Ihrer Implementierung **kurz** den von Ihnen gewählten Ansatz.\n",
    "\n",
    "Ihr Ergebnis sollen Sie als 3D-Plot im Notebook visualisieren. Ein *statisches* Perspektivbild (leichte Neigung auf allen Achsen) reicht hierfür aus.\n",
    "\n",
    "**Hinweise:**\n",
    "- Die Bilder innerhalb des Stapels sind von unten (Teil des oberen Brustkorbs) nach oben (Schädeldecke) über die Dateinamen sortiert (kleine Nummern liegen im Stapel unten, große Nummer oben). Berücksichtigen Sie dies in Ihrer Rekonstruktion (der Kopf soll im 3D-Modell oben sein). \n",
    "- Je nach verwendeter Bibliothek für die Rekonstruktion kann es möglich sein, dass die Visualisierung nicht mittels `matplotlib` umgesetzt werden kann. Sollten Sie eine andere Bibliothek für die Visualisierung verwenden, vermerken Sie dies.\n",
    "- Sollten Sie externe Bibliotheken nutzen (die ggf. `Python`-Bindings erfordern) und für die Arbeit den Laborrechner verwenden wollen, müssen Sie diese als **Nutzer** nachinstallieren. Dies können Sie mittels `pip3 install --user PaketName`.\n",
    "- Viele externe Bibliotheken bieten reichhaltige Funktionen zur Optimierung der Bilddaten vor einer 3D-Rekonstruktion an. Diese dürfen im *Pflichtteil* der Übung jedoch **nicht** verwendet werden. Der Input für die 3D-Rekonstruktion muss Ihr Ergebnis aus **Aufgabe 3** sein. Die vollen Möglichkeiten der externen Bibliotheken können Sie im Rahmen der *Bonusaufgabe* nutzen."
   ]
  },
  {
   "cell_type": "code",
   "execution_count": 5,
   "metadata": {},
   "outputs": [],
   "source": [
    "from skimage import measure\n",
    "from mpl_toolkits.mplot3d.art3d import Poly3DCollection"
   ]
  },
  {
   "cell_type": "code",
   "execution_count": 6,
   "metadata": {},
   "outputs": [],
   "source": [
    "# %matplotlib inline\n",
    "\n",
    "# def make_mesh(image):\n",
    "#     p = image.transpose(2,1,0)\n",
    "#     verts,faces,norm,val=measure.marching_cubes_lewiner(p)\n",
    "    \n",
    "#     return verts, faces\n",
    "\n",
    "# def plt_3d(verts, faces):\n",
    "#     x,y,z = zip(*verts) \n",
    "    \n",
    "#     fig=plt.figure(figsize=(10, 10))\n",
    "#     ax=fig.add_subplot(111, projection='3d')\n",
    "\n",
    "#     # fancy indexing: `verts[faces]` to generate a collection of triangles\n",
    "#     mesh = Poly3DCollection(verts[faces], linewidths=0.05, alpha=1)\n",
    "#     face_color = [1, 1, 0.9]\n",
    "#     mesh.set_facecolor(face_color)\n",
    "#     plt.add_collection3d(mesh)\n",
    "\n",
    "#     ax.set_xlim(0, max(x))\n",
    "#     ax.set_ylim(0, max(y))\n",
    "#     ax.set_zlim(0, max(z))\n",
    "#     ax.set_axis_bgcolor((0.7, 0.7, 0.7))\n",
    "#     plt.show()\n",
    "    \n",
    "# v,f=make_mesh(ds_copy_2)\n",
    "# plt_3d=(v,f)"
   ]
  },
  {
   "cell_type": "code",
   "execution_count": null,
   "metadata": {},
   "outputs": [],
   "source": [
    "%matplotlib inline\n",
    "\n",
    "def plot_3D(img):\n",
    "    # richtet die Ansicht, sonst Bild horizontal zu sehen\n",
    "    p = img.transpose(2,1,0)\n",
    "    \n",
    "    # Oberfläche kalkulieren\n",
    "    # marching cubes algo wird angewendet\n",
    "    verts,faces,norm,val = measure.marching_cubes_lewiner(p)\n",
    "\n",
    "    fig = plt.figure(figsize=(10, 10))\n",
    "    ax = fig.add_subplot(111, projection='3d')\n",
    "\n",
    "    # verts[faces] generiert Sammlung von Dreiecken\n",
    "    mesh = Poly3DCollection(verts[faces], alpha=0.5)\n",
    "#     mesh2 = Delaunay(mesh)\n",
    "    face_color = [0.5, 0.5, 1]\n",
    "    mesh.set_facecolor(face_color)\n",
    "    ax.add_collection3d(mesh)\n",
    "\n",
    "    ax.set_xlim(0, p.shape[0])\n",
    "    ax.set_ylim(0, p.shape[0])\n",
    "    ax.set_zlim(0, p.shape[0])\n",
    "\n",
    "    plt.show()\n",
    "\n",
    "plot_3D(ds_copy_2)"
   ]
  },
  {
   "cell_type": "markdown",
   "metadata": {},
   "source": [
    "---\n",
    "---"
   ]
  },
  {
   "cell_type": "markdown",
   "metadata": {},
   "source": [
    "### Bonusaufgaben\n",
    "\n",
    "- Weitere Optimierungen der Binärbilder in **3.** (externe Frameworks dürfen verwendet werden).\n",
    "- Je nach verwendeter Visualisierung in **4.** könnte die Rotation des 3D-Modells um die Achsen interaktiv festgelegt werden. Möglich wären z.B. jeweils ein Slider für x-, y- und z-Achse.\n",
    "\n",
    "Weitere Bonus-Funktionen sind nach Rücksprache ebenfalls möglich.\n",
    "\n",
    "Für die Realisierung der Bonus-Funktion nutzen Sie bitte zusätzliche Notebook-Zellen unterhalb dieser Erläuterung, so dass die Bonus-Funktionen keine Randeffekte im *Pflichtteil* hervorrufen. Kopieren Sie hierzu, falls nötig, benötigte Teile Ihrer bisherigen Lösungen bover Sie Veränderungen vornehmen.\n",
    "\n",
    "Stellen Sie Ihrer Bonus-Implementierung eine **kurze** Erläuterung der umgesetzten Funktion(en) voraus.\n",
    "\n",
    "Für das Erreichen der Bonuspunkte genügt die Umsetzung **einer** der genannten bzw. selbst ausgewählten Funktionalitäten!"
   ]
  },
  {
   "cell_type": "code",
   "execution_count": null,
   "metadata": {},
   "outputs": [],
   "source": []
  }
 ],
 "metadata": {
  "anaconda-cloud": {},
  "kernelspec": {
   "display_name": "Python 3",
   "language": "python",
   "name": "python3"
  },
  "language_info": {
   "codemirror_mode": {
    "name": "ipython",
    "version": 3
   },
   "file_extension": ".py",
   "mimetype": "text/x-python",
   "name": "python",
   "nbconvert_exporter": "python",
   "pygments_lexer": "ipython3",
   "version": "3.7.5"
  }
 },
 "nbformat": 4,
 "nbformat_minor": 2
}
